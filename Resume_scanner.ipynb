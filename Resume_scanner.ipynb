{
 "cells": [
  {
   "cell_type": "code",
   "execution_count": 18,
   "metadata": {},
   "outputs": [],
   "source": [
    "import docx2txt\n",
    "from sklearn.feature_extraction.text import CountVectorizer\n",
    "from sklearn.metrics.pairwise import cosine_similarity"
   ]
  },
  {
   "cell_type": "code",
   "execution_count": 5,
   "metadata": {},
   "outputs": [
    {
     "ename": "AttributeError",
     "evalue": "module 'files' has no attribute 'upload'",
     "output_type": "error",
     "traceback": [
      "\u001b[1;31m---------------------------------------------------------------------------\u001b[0m",
      "\u001b[1;31mAttributeError\u001b[0m                            Traceback (most recent call last)",
      "\u001b[1;32m<ipython-input-5-0e3bcf1096e1>\u001b[0m in \u001b[0;36m<module>\u001b[1;34m\u001b[0m\n\u001b[1;32m----> 1\u001b[1;33m \u001b[0muploaded\u001b[0m\u001b[1;33m=\u001b[0m\u001b[0mfiles\u001b[0m\u001b[1;33m.\u001b[0m\u001b[0mupload\u001b[0m\u001b[1;33m(\u001b[0m\u001b[1;33m)\u001b[0m\u001b[1;33m\u001b[0m\u001b[1;33m\u001b[0m\u001b[0m\n\u001b[0m",
      "\u001b[1;31mAttributeError\u001b[0m: module 'files' has no attribute 'upload'"
     ]
    }
   ],
   "source": [
    "uploaded=files.upload()"
   ]
  },
  {
   "cell_type": "code",
   "execution_count": 20,
   "metadata": {},
   "outputs": [],
   "source": [
    "sample1 = docx2txt.process(\"Sample1.docx\")\n",
    "sample2 = docx2txt.process(\"Sample2.docx\")"
   ]
  },
  {
   "cell_type": "code",
   "execution_count": 12,
   "metadata": {},
   "outputs": [
    {
     "name": "stdout",
     "output_type": "stream",
     "text": [
      "MARIA LISA\n",
      "\n",
      "Email: maria123@gmail.com\n",
      "Phone: (555)-555-5555\n",
      "\n",
      "\n",
      "\n",
      "CAREER SUMMARY\n",
      "\n",
      "Around 3 Years of experience in Analysis, Design, Development, Management and Validation of various stand-alone and client-server applications.\n",
      "\n",
      "2+ years of experience in implementing Object-Oriented Python, Hash Tables (Dictionaries) and Multi threading.\n",
      "\n",
      "Experience in installing software using pip command for python libraries and extensive usage of the PEP8 coding convention.\n",
      "\n",
      "Good understanding on Django ORM and SQLAlchemy.\n",
      "\n",
      "Experienced in interfacing with third party API’s using REST and SOAP\n",
      "\n",
      "Worked with varieties of Relational Databases (RDBMS) like SQLite, MySQL and PostgreSQL.\n",
      "\n",
      "Experienced in writing SubQueries, Triggers, Cursors, Stored Procedures and Functions.\n",
      "\n",
      "Proficient knowledge of Web services like Google Cloud and Amazon AWS Services.\n",
      "\n",
      "Good Knowledge on Linux and Shell Scripting.\n",
      "\n",
      "Experienced in developing web-based applications using Python, PHP, XML, JSON and MVC3\n",
      "\n",
      "Well versed in design and development of presentation layer for web applications using technologies like HTML,CSS, JavaScript, JQuery, AJAX and Bootstrap.\n",
      "\n",
      "EDUCATION\n",
      "\n",
      "Course (Stream)/ Examination\n",
      "\n",
      "Institution/University/School\n",
      "\n",
      "Year of Passing\n",
      "\n",
      "Performance\n",
      "\n",
      "B.E\n",
      "\n",
      "Tagore College of Engineering and Technology – Chennai\n",
      "\n",
      "2015\n",
      "\n",
      "90%\n",
      "\n",
      "HSC\n",
      "\n",
      "Scread Higher Secondary School\n",
      "\n",
      "2009\n",
      "\n",
      "84%\n",
      "\n",
      "SSLC\n",
      "\n",
      "ST.Marry Higher Secondary School\n",
      "\n",
      "2007\n",
      "\n",
      "80%\n",
      "\n",
      "SKILLS\n",
      "\n",
      "AJAX (1 year)\n",
      "\n",
      "CSS (1 year)\n",
      "\n",
      "HTML (1 year)\n",
      "\n",
      "JAVASCRIPT (1 year)\n",
      "\n",
      "MYSQL (1 year)\n",
      "\n",
      "WORK EXPERIENCE\n",
      "\n",
      "1.) Python Developer\n",
      "\n",
      "Tata Consultancy Services – October 2015 to December 2016\n",
      "\n",
      "Responsibilities: \n",
      "\n",
      "Involved in building database model, APIs and views utilizing Python, in order to build an interactive web based solution.\n",
      "\n",
      "Used data types like dictionaries, tuples and object -concepts based inheritance features for making complex algorithms of networks.\n",
      "\n",
      "Designed and developed the UI of the website using HTML, XHTML, AJAX, CSS and JavaScript.\n",
      "\n",
      "Expertise in client scripting languages like JavaScript, JQuery, JSON, DOJO, bootstrap, Angular.js.\n",
      "\n",
      "Designed and managed API system deployment using fast http server and Amazon AWS architecture\n",
      "\n",
      "Worked on Python Open stack API’s.\n",
      "\n",
      "Carried out various mathematical operations for calculation purpose using python libraries.\n",
      "\n",
      "Managed large datasets using Panda data frames and MySQL.\n",
      "\n",
      "Worked with JSON based REST Web services.\n",
      "\n",
      "Performed testing using Django’s Test Module.\n",
      "\n",
      "Creating unit test/regression test framework for working/new code.\n",
      "\n",
      "Using Subversion version control tool to coordinate team-development.\n",
      "\n",
      "Environment: Python, XML, Java, MySQL, Apache, CSS, HTML, JavaScript, Shell Scripts, Linux and Windows.\n",
      "\n",
      "2.) Python Developer\n",
      "\n",
      "Techwave Consulting Inc  – January 2015 to October 2015\n",
      "\n",
      "Responsibilities:\n",
      "\n",
      "Developed Views and Templates with Django view, controller and template language to create a user-friendly website interface.\n",
      "\n",
      "Configured the Django admin site, dashboard and created a custom Django dashboard for end users with custom look and feel.\n",
      "\n",
      "Used Python for XML, JSON processing, data exchange and business logic implementation.\n",
      "\n",
      "Created UI using JavaScript and HTML5. Designed and developed data management system using MongoDB.\n",
      "\n",
      "Used Python scripts to update the content in database and manipulate files.\n",
      "\n",
      "Proficient in Software Design and Development with a solid background in developing.\n",
      "\n",
      "Environment: Python, XML, MySQL, Apache, CSS, HTML, JavaScript, Shell Scripts, Linux and Windows.\n",
      "\n",
      "ADDITIONAL INFORMATION\n",
      "\n",
      "Languages Python, PHP, Java, C++, Shell scripting\n",
      "\n",
      "Python Framework Django, Pandas, Numpy, Scipy, Matplotlib, Seaborn, TensorFlow, Scikit-Learn, Pytorch.\n",
      "\n",
      "Databases MS SQL, MySQL, Oracle, PostgreSQL\n",
      "\n",
      "Web Technologies XML, CSS, HTML 5, JavaScript, JQuery, MVC 3, Bootstrap, AJAX, angular 2, PHP\n",
      "\n",
      "IDE Visual studio, PyCharm, Eclipse, MyEclipse\n"
     ]
    }
   ],
   "source": [
    "print(sample1)"
   ]
  },
  {
   "cell_type": "code",
   "execution_count": 13,
   "metadata": {},
   "outputs": [],
   "source": [
    "job_desc = docx2txt.process(\"job_description.docx\")"
   ]
  },
  {
   "cell_type": "code",
   "execution_count": 15,
   "metadata": {},
   "outputs": [],
   "source": [
    "text = [sample1,job_desc]"
   ]
  },
  {
   "cell_type": "code",
   "execution_count": 17,
   "metadata": {},
   "outputs": [],
   "source": [
    "cv=CountVectorizer()\n",
    "count_matrix=cv.fit_transform(text)"
   ]
  },
  {
   "cell_type": "code",
   "execution_count": 19,
   "metadata": {},
   "outputs": [
    {
     "data": {
      "text/plain": [
       "array([[1.        , 0.56311661],\n",
       "       [0.56311661, 1.        ]])"
      ]
     },
     "execution_count": 19,
     "metadata": {},
     "output_type": "execute_result"
    }
   ],
   "source": [
    "cosine_similarity(count_matrix)"
   ]
  },
  {
   "cell_type": "code",
   "execution_count": 21,
   "metadata": {},
   "outputs": [],
   "source": [
    "text1=[sample2,job_desc]"
   ]
  },
  {
   "cell_type": "code",
   "execution_count": 22,
   "metadata": {},
   "outputs": [],
   "source": [
    "count_matrix1=cv.fit_transform(text1)"
   ]
  },
  {
   "cell_type": "code",
   "execution_count": 23,
   "metadata": {},
   "outputs": [
    {
     "data": {
      "text/plain": [
       "array([[1.        , 0.63409447],\n",
       "       [0.63409447, 1.        ]])"
      ]
     },
     "execution_count": 23,
     "metadata": {},
     "output_type": "execute_result"
    }
   ],
   "source": [
    "cosine_similarity(count_matrix1)"
   ]
  },
  {
   "cell_type": "code",
   "execution_count": null,
   "metadata": {},
   "outputs": [],
   "source": []
  }
 ],
 "metadata": {
  "kernelspec": {
   "display_name": "Python 3",
   "language": "python",
   "name": "python3"
  },
  "language_info": {
   "codemirror_mode": {
    "name": "ipython",
    "version": 3
   },
   "file_extension": ".py",
   "mimetype": "text/x-python",
   "name": "python",
   "nbconvert_exporter": "python",
   "pygments_lexer": "ipython3",
   "version": "3.7.6"
  }
 },
 "nbformat": 4,
 "nbformat_minor": 4
}
